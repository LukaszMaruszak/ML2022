{
 "cells": [
  {
   "cell_type": "markdown",
   "metadata": {},
   "source": [
    "# Exercises\n",
    "\n",
    "There are three exercises in this notebook:\n",
    "\n",
    "1. Use the cross-validation method to test the linear regression with different $\\alpha$ values, at least three.\n",
    "2. Implement a SGD method that will train the Lasso regression for 10 epochs.\n",
    "3. Extend the Fisher's classifier to work with two features. Use the class as the $y$."
   ]
  },
  {
   "cell_type": "markdown",
   "metadata": {},
   "source": [
    "## 1. Cross-validation linear regression\n",
    "\n",
    "You need to change the variable ``alpha`` to be a list of alphas. Next do a loop and finally compare the results."
   ]
  },
  {
   "cell_type": "code",
   "execution_count": 136,
   "outputs": [],
   "source": [
    "import numpy as np\n",
    "from sklearn.metrics import mean_squared_error\n",
    "import pandas as pd\n",
    "\n",
    "def reg_predict(inputs, w, b):\n",
    "    results = []\n",
    "    for inp in inputs:\n",
    "        results.append(inp*w+b)\n",
    "    return results"
   ],
   "metadata": {
    "collapsed": false,
    "pycharm": {
     "name": "#%%\n"
    }
   }
  },
  {
   "cell_type": "code",
   "execution_count": 137,
   "outputs": [
    {
     "name": "stdout",
     "output_type": "stream",
     "text": [
      "Min error  372.3312921517967  for alpha  0\n"
     ]
    }
   ],
   "source": [
    "x = np.array([188, 181, 197, 168, 167, 187, 178, 194, 140, 176, 168, 192, 173, 142, 176]).reshape(-1, 1).reshape(15,1)\n",
    "y = np.array([141, 106, 149, 59, 79, 136, 65, 136, 52, 87, 115, 140, 82, 69, 121]).reshape(-1, 1).reshape(15,1)\n",
    "x_true = x\n",
    "y_true = y\n",
    "x = np.asmatrix(np.c_[np.ones((15,1)),x])\n",
    "\n",
    "\n",
    "I = np.identity(2)\n",
    "results = []\n",
    "errors = []\n",
    "alpha_list = [-0.5, -0.4, -0.3, -0.2, -0.1, 0, 0.1, 0.2, 0.3, 0.4, 0.5] # change here\n",
    "\n",
    "# add 1-3 line of code here\n",
    "for alpha in alpha_list:\n",
    "    w = np.linalg.inv(x.T*x + alpha * I)*x.T*y\n",
    "    w=w.ravel()\n",
    "    w=w.tolist()[0]\n",
    "    results.append(w)\n",
    "\n",
    "# add 1-3 lines to compare the results\n",
    "for result in results:\n",
    "    y_pred = reg_predict(x_true.flatten(), result[1], result[0])\n",
    "    errors.append(mean_squared_error(y_true, y_pred))\n",
    "\n",
    "print(\"Min error \", min(errors), \" for alpha \", alpha_list[errors.index(min(errors))])"
   ],
   "metadata": {
    "collapsed": false,
    "pycharm": {
     "name": "#%%\n"
    }
   }
  },
  {
   "cell_type": "markdown",
   "metadata": {},
   "source": [
    "## 2. Implement based on the Ridge regression example, the Lasso regression.\n",
    "\n",
    "Please implement the SGD method and compare the results with the sklearn Lasso regression results. "
   ]
  },
  {
   "cell_type": "markdown",
   "source": [],
   "metadata": {
    "collapsed": false
   }
  },
  {
   "cell_type": "code",
   "execution_count": 138,
   "outputs": [],
   "source": [
    "def update_weights(w_gradient, b_gradient, w, b, learning_rate):\n",
    "    w = w - learning_rate * w_gradient\n",
    "    b = b - learning_rate * b_gradient\n",
    "    return w, b\n",
    "\n",
    "\n",
    "def sgd(x_train, y, learning_rate, n_iterations = 710):\n",
    "    normalized_data = np.linalg.norm(x_train, axis=0)\n",
    "    w = 1.0\n",
    "    b = 1.0\n",
    "    cur_iter = 1\n",
    "    while cur_iter <= n_iterations:\n",
    "        x = x_train[:,1].reshape(-1, 1)\n",
    "        y_predict = x * w + b\n",
    "\n",
    "        if w > 0:\n",
    "            w_gradient = (-2 * x.T.dot((y - y_predict)) + learning_rate ) / normalized_data[1]**2\n",
    "        else:\n",
    "            w_gradient = (-2 * x.T.dot((y - y_predict)) - learning_rate ) / normalized_data[1]**2\n",
    "\n",
    "        b_gradient = (-2) * np.sum(y - y_predict) / normalized_data[0]**2\n",
    "\n",
    "        w, b = update_weights(w_gradient, b_gradient, w, b, learning_rate)\n",
    "\n",
    "        cur_iter += 1\n",
    "\n",
    "    return np.array([b, w.item(0)])"
   ],
   "metadata": {
    "collapsed": false,
    "pycharm": {
     "name": "#%%\n"
    }
   }
  },
  {
   "cell_type": "code",
   "execution_count": 139,
   "outputs": [
    {
     "name": "stdout",
     "output_type": "stream",
     "text": [
      "SGD  [-101.92592152    1.16900386]\n",
      "Lasso  [-101.72397080681458, 1.169787574869769]\n"
     ]
    }
   ],
   "source": [
    "x = np.array([188, 181, 197, 168, 167, 187, 178, 194, 140, 176, 168, 192, 173, 142, 176]).reshape(-1, 1).reshape(15,1)\n",
    "y = np.array([141, 106, 149, 59, 79, 136, 65, 136, 52, 87, 115, 140, 82, 69, 121]).reshape(-1, 1).reshape(15,1)\n",
    "\n",
    "x = np.asmatrix(np.c_[np.ones((15,1)),x])\n",
    "\n",
    "I = np.identity(2)\n",
    "alpha = 0.1\n",
    "\n",
    "sgd = sgd(x, y, alpha)\n",
    "sgd = sgd.ravel()\n",
    "print(\"SGD \", sgd)\n",
    "\n",
    "w = np.linalg.inv(x.T*x + alpha * I)*x.T*y # update this line\n",
    "w = w.ravel()\n",
    "print(\"Lasso \", w.tolist()[0])"
   ],
   "metadata": {
    "collapsed": false,
    "pycharm": {
     "name": "#%%\n"
    }
   }
  },
  {
   "cell_type": "markdown",
   "metadata": {},
   "source": [
    "## 3. Extend the Fisher's classifier\n",
    "\n",
    "Please extend the targets of the ``iris_data`` variable and use it as the $y$."
   ]
  },
  {
   "cell_type": "code",
   "execution_count": 140,
   "metadata": {
    "pycharm": {
     "name": "#%%\n"
    }
   },
   "outputs": [
    {
     "name": "stdout",
     "output_type": "stream",
     "text": [
      "[[6.55223204 2.33825946]\n",
      " [5.91375134 2.33825946]\n",
      " [6.16914362 2.33825946]\n",
      " [6.04144748 2.33825946]\n",
      " [6.67992818 2.33825946]\n",
      " [7.06301659 2.59365173]\n",
      " [6.4245359  2.46595559]\n",
      " [6.4245359  2.33825946]\n",
      " [5.7860552  2.33825946]\n",
      " [6.04144748 2.21056332]\n",
      " [6.80762432 2.33825946]\n",
      " [6.4245359  2.33825946]\n",
      " [5.91375134 2.21056332]\n",
      " [5.91375134 2.21056332]\n",
      " [7.19071273 2.33825946]\n",
      " [7.70149729 2.59365173]\n",
      " [7.06301659 2.59365173]\n",
      " [6.55223204 2.46595559]\n",
      " [6.93532045 2.46595559]\n",
      " [6.93532045 2.46595559]\n",
      " [6.4245359  2.33825946]\n",
      " [6.80762432 2.59365173]\n",
      " [6.67992818 2.33825946]\n",
      " [6.29683976 2.72134787]\n",
      " [6.4245359  2.33825946]\n",
      " [5.91375134 2.33825946]\n",
      " [6.4245359  2.59365173]\n",
      " [6.55223204 2.33825946]\n",
      " [6.4245359  2.33825946]\n",
      " [6.16914362 2.33825946]\n",
      " [6.04144748 2.33825946]\n",
      " [6.4245359  2.59365173]\n",
      " [7.31840887 2.21056332]\n",
      " [7.44610501 2.33825946]\n",
      " [6.04144748 2.33825946]\n",
      " [6.16914362 2.33825946]\n",
      " [6.55223204 2.33825946]\n",
      " [6.67992818 2.21056332]\n",
      " [5.91375134 2.33825946]\n",
      " [6.4245359  2.33825946]\n",
      " [6.55223204 2.46595559]\n",
      " [5.01987837 2.46595559]\n",
      " [6.16914362 2.33825946]\n",
      " [6.55223204 2.84904401]\n",
      " [6.93532045 2.59365173]\n",
      " [5.91375134 2.46595559]\n",
      " [6.93532045 2.33825946]\n",
      " [6.16914362 2.33825946]\n",
      " [6.80762432 2.33825946]\n",
      " [6.29683976 2.33825946]\n",
      " [6.16914362 3.87061312]\n",
      " [6.16914362 3.99830926]\n",
      " [6.04144748 3.99830926]\n",
      " [5.01987837 3.74291698]\n",
      " [5.65835907 3.99830926]\n",
      " [5.65835907 3.74291698]\n",
      " [6.29683976 4.1260054 ]\n",
      " [5.14757451 3.35982857]\n",
      " [5.7860552  3.74291698]\n",
      " [5.53066293 3.87061312]\n",
      " [4.63678996 3.35982857]\n",
      " [5.91375134 3.99830926]\n",
      " [4.89218223 3.35982857]\n",
      " [5.7860552  3.87061312]\n",
      " [5.7860552  3.74291698]\n",
      " [6.04144748 3.87061312]\n",
      " [5.91375134 3.99830926]\n",
      " [5.53066293 3.35982857]\n",
      " [4.89218223 3.99830926]\n",
      " [5.27527065 3.48752471]\n",
      " [6.16914362 4.38139768]\n",
      " [5.65835907 3.74291698]\n",
      " [5.27527065 3.99830926]\n",
      " [5.65835907 3.61522084]\n",
      " [5.7860552  3.74291698]\n",
      " [5.91375134 3.87061312]\n",
      " [5.65835907 3.87061312]\n",
      " [5.91375134 4.25370154]\n",
      " [5.7860552  3.99830926]\n",
      " [5.40296679 3.35982857]\n",
      " [5.14757451 3.48752471]\n",
      " [5.14757451 3.35982857]\n",
      " [5.53066293 3.61522084]\n",
      " [5.53066293 4.1260054 ]\n",
      " [5.91375134 3.99830926]\n",
      " [6.4245359  4.1260054 ]\n",
      " [6.04144748 3.99830926]\n",
      " [5.01987837 3.74291698]\n",
      " [5.91375134 3.74291698]\n",
      " [5.27527065 3.74291698]\n",
      " [5.40296679 3.61522084]\n",
      " [5.91375134 3.87061312]\n",
      " [5.40296679 3.61522084]\n",
      " [5.01987837 3.35982857]\n",
      " [5.53066293 3.74291698]\n",
      " [5.91375134 3.61522084]\n",
      " [5.7860552  3.74291698]\n",
      " [5.7860552  3.74291698]\n",
      " [5.27527065 3.48752471]\n",
      " [5.65835907 3.74291698]\n",
      " [6.29683976 5.27527065]\n",
      " [5.53066293 4.50909382]\n",
      " [5.91375134 4.76448609]\n",
      " [5.7860552  4.38139768]\n",
      " [5.91375134 4.89218223]\n",
      " [5.91375134 4.76448609]\n",
      " [5.27527065 4.25370154]\n",
      " [5.7860552  4.38139768]\n",
      " [5.27527065 4.38139768]\n",
      " [6.67992818 5.27527065]\n",
      " [6.16914362 4.63678996]\n",
      " [5.53066293 4.50909382]\n",
      " [5.91375134 4.76448609]\n",
      " [5.27527065 4.63678996]\n",
      " [5.65835907 5.14757451]\n",
      " [6.16914362 5.01987837]\n",
      " [5.91375134 4.38139768]\n",
      " [6.93532045 4.89218223]\n",
      " [5.40296679 5.01987837]\n",
      " [4.89218223 3.99830926]\n",
      " [6.16914362 5.01987837]\n",
      " [5.65835907 4.63678996]\n",
      " [5.65835907 4.63678996]\n",
      " [5.53066293 4.38139768]\n",
      " [6.29683976 4.76448609]\n",
      " [6.16914362 4.38139768]\n",
      " [5.65835907 4.38139768]\n",
      " [5.91375134 4.38139768]\n",
      " [5.65835907 4.76448609]\n",
      " [5.91375134 4.1260054 ]\n",
      " [5.65835907 4.50909382]\n",
      " [6.93532045 4.63678996]\n",
      " [5.65835907 4.89218223]\n",
      " [5.65835907 3.99830926]\n",
      " [5.40296679 3.87061312]\n",
      " [5.91375134 5.01987837]\n",
      " [6.4245359  5.14757451]\n",
      " [6.04144748 4.38139768]\n",
      " [5.91375134 4.38139768]\n",
      " [6.04144748 4.76448609]\n",
      " [6.04144748 5.14757451]\n",
      " [6.04144748 5.01987837]\n",
      " [5.53066293 4.50909382]\n",
      " [6.16914362 5.01987837]\n",
      " [6.29683976 5.27527065]\n",
      " [5.91375134 5.01987837]\n",
      " [5.27527065 4.50909382]\n",
      " [5.91375134 4.63678996]\n",
      " [6.4245359  5.01987837]\n",
      " [5.91375134 4.38139768]]\n"
     ]
    }
   ],
   "source": [
    "import pandas as pd\n",
    "import numpy as np\n",
    "import matplotlib.pyplot as plt\n",
    "from sklearn.datasets import load_iris\n",
    "\n",
    "iris_data = load_iris()\n",
    "iris_df = pd.DataFrame(iris_data.data,columns=iris_data.feature_names)\n",
    "\n",
    "x = iris_df[['sepal width (cm)', 'petal width (cm)']].values # change here\n",
    "y = iris_df[['sepal length (cm)', 'petal length (cm)']].values # change here\n",
    "\n",
    "dataset_size = np.size(x)\n",
    "\n",
    "mean_x, mean_y = np.mean(x), np.mean(y)\n",
    "\n",
    "SS_xy = np.sum(y * x) - dataset_size * mean_y * mean_x\n",
    "SS_xx = np.sum(x * x) - dataset_size * mean_x * mean_x\n",
    "\n",
    "a = SS_xy / SS_xx\n",
    "b = mean_y - a * mean_x\n",
    "\n",
    "\n",
    "y_pred = a * x + b\n",
    "print (y_pred)"
   ]
  }
 ],
 "metadata": {
  "kernelspec": {
   "display_name": "Python 3",
   "language": "python",
   "name": "python3"
  },
  "language_info": {
   "codemirror_mode": {
    "name": "ipython",
    "version": 3
   },
   "file_extension": ".py",
   "mimetype": "text/x-python",
   "name": "python",
   "nbconvert_exporter": "python",
   "pygments_lexer": "ipython3",
   "version": "3.6.9"
  }
 },
 "nbformat": 4,
 "nbformat_minor": 4
}