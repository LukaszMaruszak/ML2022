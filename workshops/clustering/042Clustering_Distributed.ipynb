{
 "cells": [
  {
   "cell_type": "markdown",
   "metadata": {},
   "source": [
    "# Distributed clustering\n",
    "\n",
    "We have many types of distributed clustering, where most are an modification of k-means. In this section we show three types: hard k-means (hcm), fuzzy k-means (fcm) and possibilistic k-means (pcm)."
   ]
  },
  {
   "cell_type": "markdown",
   "metadata": {},
   "source": [
    "### Libraries\n",
    "\n",
    "We need four libraries. Numpy is used for the matrices calculation. The math library is used to calcualte the square root when we calculate the Euclidean distance. Matplotlib is used for the plots. Finally, pandas is used here only for displaying the assignation matrix in a easy to ready form in Jupyter."
   ]
  },
  {
   "cell_type": "code",
   "execution_count": 1,
   "metadata": {},
   "outputs": [],
   "source": [
    "import numpy as np\n",
    "from math import sqrt\n",
    "import matplotlib.pyplot as plt\n",
    "import pandas as pd"
   ]
  },
  {
   "cell_type": "markdown",
   "metadata": {},
   "source": [
    "## K-means\n",
    "\n",
    "The most known method is called k-means and assign each case to one cluster strictly. It is also known as hard c-means where k is the same as c and are the number of clusters that we are willing to divide the data set to. The steps of hcm are like following:\n",
    "1. choose the entrance cluster centroids,\n",
    "2. item calculate the assignation matrix $U$,\n",
    "3. item calculate new centroids matrix $V$,\n",
    "4. calculate the difference between previously assignation matrix $U$ and the new one calculated in current iteration."
   ]
  },
  {
   "cell_type": "code",
   "execution_count": 2,
   "metadata": {},
   "outputs": [],
   "source": [
    "%store -r data_set"
   ]
  },
  {
   "cell_type": "markdown",
   "metadata": {},
   "source": [
    "Before we start, we should setup a few variables like the assignation matrix, number of clusters, the error margin and feature space:"
   ]
  },
  {
   "cell_type": "code",
   "execution_count": 3,
   "metadata": {},
   "outputs": [],
   "source": [
    "groups = 2\n",
    "error_margin = 0.01\n",
    "m=2\n",
    "assignation=np.zeros((len(data_set),groups))"
   ]
  },
  {
   "cell_type": "markdown",
   "metadata": {},
   "source": [
    "The error margin is a value of error that below ends the clustering loop. \n",
    "\n",
    "The assignation matrix if filled with zeros as we don't have any guess for assignation yet. We can also fill it randomly with 1 and 0 for each group. The assignation matrix looks like following:\n",
    "\n",
    "\\begin{equation*}\n",
    "U=\\begin{bmatrix}\n",
    "0 & 0 & 0 & 0 & 0 & 0 & 0 & 0 & 0 & 0\\\\\n",
    "0 & 0 & 0 & 0 & 0 & 0 & 0 & 0 & 0 & 0\\\\\n",
    "\\end{bmatrix}.\n",
    "\\end{equation*}\n",
    "\n",
    "\n",
    "It's time to generate centroid array randomly:\n",
    "\\begin{equation}\n",
    " V=[v_{1},v_{2},\\ldots,v_{c}].\n",
    "\\end{equation}\n",
    "\n",
    "We go through each group and add a random array of the feature space centroid positions:"
   ]
  },
  {
   "cell_type": "code",
   "execution_count": 4,
   "metadata": {},
   "outputs": [],
   "source": [
    "def select_centers():\n",
    "    return np.random.rand(groups,len(data_set[0]))\n",
    "        \n",
    "centers = select_centers()"
   ]
  },
  {
   "cell_type": "markdown",
   "metadata": {},
   "source": [
    "Let's take a look what centroids do we have:"
   ]
  },
  {
   "cell_type": "code",
   "execution_count": 5,
   "metadata": {},
   "outputs": [
    {
     "data": {
      "text/plain": "         x1        x2\n0  0.148675  0.219206\n1  0.123502  0.821873",
      "text/html": "<div>\n<style scoped>\n    .dataframe tbody tr th:only-of-type {\n        vertical-align: middle;\n    }\n\n    .dataframe tbody tr th {\n        vertical-align: top;\n    }\n\n    .dataframe thead th {\n        text-align: right;\n    }\n</style>\n<table border=\"1\" class=\"dataframe\">\n  <thead>\n    <tr style=\"text-align: right;\">\n      <th></th>\n      <th>x1</th>\n      <th>x2</th>\n    </tr>\n  </thead>\n  <tbody>\n    <tr>\n      <th>0</th>\n      <td>0.148675</td>\n      <td>0.219206</td>\n    </tr>\n    <tr>\n      <th>1</th>\n      <td>0.123502</td>\n      <td>0.821873</td>\n    </tr>\n  </tbody>\n</table>\n</div>"
     },
     "execution_count": 5,
     "metadata": {},
     "output_type": "execute_result"
    }
   ],
   "source": [
    "pd.DataFrame(centers, columns=['x1','x2'])"
   ]
  },
  {
   "cell_type": "markdown",
   "metadata": {},
   "source": [
    "We can also set fixed centers. It is important that the values are normalized."
   ]
  },
  {
   "cell_type": "code",
   "execution_count": 6,
   "metadata": {},
   "outputs": [],
   "source": [
    "#centers = [[0.2,0.2],  [0.8,0.8]]\n",
    "#pd.DataFrame(centers)\n",
    "#print(centers)"
   ]
  },
  {
   "cell_type": "markdown",
   "metadata": {},
   "source": [
    "To check what is the distance between the centroids and the elements of data set we use the Euclidean distance:\n",
    "\n",
    "\\begin{equation}\n",
    " \\rho_{Min}(x_{i},v_{j})=\\sqrt{\\sum_{i=1}^{d}(x_{i}-v_{j})^{2}}.\n",
    "\\end{equation}"
   ]
  },
  {
   "cell_type": "code",
   "execution_count": 7,
   "metadata": {},
   "outputs": [],
   "source": [
    "def calculate_distance(x,v):\n",
    "    return sqrt((x[0]-v[0])**2+(x[1]-v[1])**2)"
   ]
  },
  {
   "cell_type": "markdown",
   "metadata": {},
   "source": [
    "The next step is to calculate the new assignation matrix:\n",
    "\n",
    "\\begin{equation}\n",
    " \\mu_{ik}^{(t)}=\n",
    " \\begin{cases}\n",
    " 1 & \\text{if } d(x_{k},v_{i})<d(x_{k},v_{j}),  \\text{for each } j\\neq i\\\\\n",
    " 0 & \\text{in other case} \\\\\n",
    " \\end{cases}.\n",
    "\\end{equation}\n",
    "\n",
    "The code below relizes the equation above for two groups."
   ]
  },
  {
   "cell_type": "code",
   "execution_count": 8,
   "metadata": {},
   "outputs": [],
   "source": [
    "def calculate_u(x, centers):\n",
    "    if calculate_distance(x, centers[0]) < calculate_distance(x, centers[1]):\n",
    "        return [1,0]\n",
    "    else:\n",
    "        return [0,1]"
   ]
  },
  {
   "cell_type": "markdown",
   "metadata": {},
   "source": [
    "The third step is to calculate new centroids based on the new assignation matrix $U$:\n",
    "\n",
    "\\begin{equation}\n",
    " v_{i}=\\frac{\\sum_{k=1}^{M}\\mu_{ik}^{(t)}x_{k}}{\\sum_{k=1}^{M}\\mu_{ik}^{(t)}}.\n",
    "\\end{equation}\n",
    "\n",
    "The calculation is done in two steps: ```u_x_vector``` and ```u_scalar```:"
   ]
  },
  {
   "cell_type": "code",
   "execution_count": 9,
   "metadata": {},
   "outputs": [],
   "source": [
    "def calculate_new_centers(u):\n",
    "    new_centers=[]\n",
    "    for c in range(groups):\n",
    "        u_x_vector=np.zeros(2)\n",
    "        u_scalar=0.0\n",
    "        for i in range(len(data_set)):\n",
    "            u_scalar = u_scalar+(u[i][c]**m)\n",
    "            u_x_vector=np.add(u_x_vector,np.multiply(u[i][c]**m,data_set[i]))\n",
    "        new_centers.append(np.divide(u_x_vector,u_scalar))\n",
    "    return new_centers"
   ]
  },
  {
   "cell_type": "markdown",
   "metadata": {},
   "source": [
    "We are almost done here. The last step before we cluster is to set the rule that allow us to stop the loop."
   ]
  },
  {
   "cell_type": "code",
   "execution_count": 10,
   "metadata": {},
   "outputs": [],
   "source": [
    "def calculate_differences(new_assignation, assignation):     \n",
    "    return np.sum(np.abs(np.subtract(assignation,new_assignation)))"
   ]
  },
  {
   "cell_type": "markdown",
   "metadata": {},
   "source": [
    "It's time to combine all together:"
   ]
  },
  {
   "cell_type": "code",
   "execution_count": 11,
   "metadata": {},
   "outputs": [],
   "source": [
    "def cluster_hcm(assignation,centers):\n",
    "    difference_limit_not_achieved=True\n",
    "    new_centers = centers\n",
    "    iter=0\n",
    "    while difference_limit_not_achieved:\n",
    "        new_assignation=[]\n",
    "        for i in range(len(data_set)):\n",
    "            new_assignation.append(calculate_u(data_set[i], new_centers))\n",
    "        new_centers = calculate_new_centers(new_assignation)\n",
    "        if iter>0:\n",
    "            if calculate_differences(new_assignation, assignation) < error_margin:\n",
    "                difference_limit_not_achieved=False\n",
    "        assignation=new_assignation\n",
    "        iter=iter+1\n",
    "    return new_assignation, new_centers"
   ]
  },
  {
   "cell_type": "markdown",
   "metadata": {},
   "source": [
    "Ready to build some new clusters: "
   ]
  },
  {
   "cell_type": "code",
   "execution_count": 12,
   "metadata": {},
   "outputs": [
    {
     "name": "stdout",
     "output_type": "stream",
     "text": [
      "Stored 'new_assignation_hcm' (list)\n",
      "Stored 'new_centers_hcm' (list)\n"
     ]
    }
   ],
   "source": [
    "new_assignation_hcm, new_centers_hcm = cluster_hcm(assignation, centers)\n",
    "%store new_assignation_hcm\n",
    "%store new_centers_hcm"
   ]
  },
  {
   "cell_type": "markdown",
   "metadata": {},
   "source": [
    "The centers are like following:"
   ]
  },
  {
   "cell_type": "code",
   "execution_count": 13,
   "metadata": {},
   "outputs": [
    {
     "data": {
      "text/plain": "         x1        x2\n0  0.127701  0.207853\n1  0.829077  0.970594",
      "text/html": "<div>\n<style scoped>\n    .dataframe tbody tr th:only-of-type {\n        vertical-align: middle;\n    }\n\n    .dataframe tbody tr th {\n        vertical-align: top;\n    }\n\n    .dataframe thead th {\n        text-align: right;\n    }\n</style>\n<table border=\"1\" class=\"dataframe\">\n  <thead>\n    <tr style=\"text-align: right;\">\n      <th></th>\n      <th>x1</th>\n      <th>x2</th>\n    </tr>\n  </thead>\n  <tbody>\n    <tr>\n      <th>0</th>\n      <td>0.127701</td>\n      <td>0.207853</td>\n    </tr>\n    <tr>\n      <th>1</th>\n      <td>0.829077</td>\n      <td>0.970594</td>\n    </tr>\n  </tbody>\n</table>\n</div>"
     },
     "execution_count": 13,
     "metadata": {},
     "output_type": "execute_result"
    }
   ],
   "source": [
    "pd.DataFrame(new_centers_hcm, columns=['x1','x2'])"
   ]
  },
  {
   "cell_type": "markdown",
   "metadata": {},
   "source": [
    "And the assignation matrix looks like:"
   ]
  },
  {
   "cell_type": "code",
   "execution_count": 14,
   "metadata": {},
   "outputs": [
    {
     "data": {
      "text/plain": "   Cluster 1  Cluster 2\n0          1          0\n1          1          0\n2          1          0\n3          1          0\n4          1          0\n5          1          0\n6          0          1\n7          0          1\n8          0          1\n9          1          0",
      "text/html": "<div>\n<style scoped>\n    .dataframe tbody tr th:only-of-type {\n        vertical-align: middle;\n    }\n\n    .dataframe tbody tr th {\n        vertical-align: top;\n    }\n\n    .dataframe thead th {\n        text-align: right;\n    }\n</style>\n<table border=\"1\" class=\"dataframe\">\n  <thead>\n    <tr style=\"text-align: right;\">\n      <th></th>\n      <th>Cluster 1</th>\n      <th>Cluster 2</th>\n    </tr>\n  </thead>\n  <tbody>\n    <tr>\n      <th>0</th>\n      <td>1</td>\n      <td>0</td>\n    </tr>\n    <tr>\n      <th>1</th>\n      <td>1</td>\n      <td>0</td>\n    </tr>\n    <tr>\n      <th>2</th>\n      <td>1</td>\n      <td>0</td>\n    </tr>\n    <tr>\n      <th>3</th>\n      <td>1</td>\n      <td>0</td>\n    </tr>\n    <tr>\n      <th>4</th>\n      <td>1</td>\n      <td>0</td>\n    </tr>\n    <tr>\n      <th>5</th>\n      <td>1</td>\n      <td>0</td>\n    </tr>\n    <tr>\n      <th>6</th>\n      <td>0</td>\n      <td>1</td>\n    </tr>\n    <tr>\n      <th>7</th>\n      <td>0</td>\n      <td>1</td>\n    </tr>\n    <tr>\n      <th>8</th>\n      <td>0</td>\n      <td>1</td>\n    </tr>\n    <tr>\n      <th>9</th>\n      <td>1</td>\n      <td>0</td>\n    </tr>\n  </tbody>\n</table>\n</div>"
     },
     "execution_count": 14,
     "metadata": {},
     "output_type": "execute_result"
    }
   ],
   "source": [
    "pd.DataFrame(new_assignation_hcm, columns = ['Cluster 1','Cluster 2'])"
   ]
  },
  {
   "cell_type": "markdown",
   "metadata": {},
   "source": [
    "To plot it, we need to develop a short function that adds some colors to our plot:"
   ]
  },
  {
   "cell_type": "code",
   "execution_count": 15,
   "metadata": {},
   "outputs": [],
   "source": [
    "red = data_set[np.where(np.array(new_assignation_hcm)[:,0]==1)]\n",
    "blue = data_set[np.where(np.array(new_assignation_hcm)[:,1]==1)]"
   ]
  },
  {
   "cell_type": "markdown",
   "metadata": {},
   "source": [
    "And finally plot the results:"
   ]
  },
  {
   "cell_type": "code",
   "execution_count": 16,
   "metadata": {},
   "outputs": [
    {
     "data": {
      "text/plain": "<Figure size 432x288 with 1 Axes>",
      "image/png": "[encoded data removed]"
     },
     "metadata": {
      "needs_background": "light"
     },
     "output_type": "display_data"
    }
   ],
   "source": [
    "fig, ax = plt.subplots()\n",
    "\n",
    "ax.scatter(blue[:,0],blue[:,1],c='blue')\n",
    "ax.scatter(red[:,0],red[:,1],c='red')\n",
    "ax.scatter(np.array(new_centers_hcm)[:,0],np.array(new_centers_hcm)[:,1],c='black')\n",
    "ax.set(xlabel='Seats count', ylabel='Distance range (km)',\n",
    "       title='Aircrafts (clusters)')\n",
    "ax.grid()\n",
    "plt.show()"
   ]
  },
  {
   "cell_type": "markdown",
   "metadata": {},
   "source": [
    "## Fuzzy k-means\n",
    "\n",
    "We reset the assignation matrix and set the m parameter. The m paramtere is also known as fuzzifier. The higher value it is the values are more fuzzy. A lower value gives as results that are closer to the one that we got with the hard version of k-means."
   ]
  },
  {
   "cell_type": "code",
   "execution_count": 17,
   "metadata": {},
   "outputs": [],
   "source": [
    "assignation=np.zeros((len(data_set),groups))\n",
    "\n",
    "m = 2.0"
   ]
  },
  {
   "cell_type": "markdown",
   "metadata": {},
   "source": [
    "The fuzzy implementation of k-means is a bit more complex and we need to modify the calculate_u function to be complient with the equation:\n",
    "\n",
    "\\begin{equation}\n",
    " \\mu_{ik}=(\\sum_{j=1}^{c}(\\frac{d(x_{k},v_{i})}{d(x_{k},v_{j})})^{\\frac{2}{m-1}})^{-1}\n",
    "\\end{equation}\n",
    "\n",
    "The implementation is given as below."
   ]
  },
  {
   "cell_type": "code",
   "execution_count": 18,
   "metadata": {},
   "outputs": [],
   "source": [
    "def calculate_u_fcm(x, centers, group_id):\n",
    "    distance_centers = 0\n",
    "    for group in range(groups):        \n",
    "        if group != group_id:\n",
    "            distance_centers+= calculate_distance(x, centers[group])\n",
    "    distance_sum=1.0+(calculate_distance(x, centers[group_id])/distance_centers)**m\n",
    "    return distance_sum**-1"
   ]
  },
  {
   "cell_type": "markdown",
   "metadata": {},
   "source": [
    "That's the only difference between HCM and FCM. The rest is almost the same in both cases."
   ]
  },
  {
   "cell_type": "code",
   "execution_count": 19,
   "metadata": {},
   "outputs": [],
   "source": [
    "def cluster_fcm(assignation, centers):\n",
    "    difference_limit_not_achieved=True\n",
    "    new_centers = centers\n",
    "    iter=0\n",
    "    while difference_limit_not_achieved:\n",
    "        new_assignation=[]\n",
    "        for i in range(len(data_set)):\n",
    "            new_assignation_vector=[]\n",
    "            for k in range(groups):\n",
    "                new_assignation_vector.append(calculate_u_fcm(data_set[i],new_centers,k))\n",
    "            new_assignation.append(new_assignation_vector)\n",
    "        new_centers = calculate_new_centers(new_assignation)\n",
    "\n",
    "        if iter>0:\n",
    "            if calculate_differences(new_assignation, assignation) < error_margin:\n",
    "                difference_limit_not_achieved=False\n",
    "        assignation=new_assignation\n",
    "        iter=iter+1\n",
    "    return new_assignation, new_centers"
   ]
  },
  {
   "cell_type": "markdown",
   "metadata": {},
   "source": [
    "Calculation of the clusters is done the same way as in the previous example:"
   ]
  },
  {
   "cell_type": "code",
   "execution_count": 20,
   "metadata": {},
   "outputs": [],
   "source": [
    "new_assignation_fcm, new_centers_fcm = cluster_fcm(assignation, centers)"
   ]
  },
  {
   "cell_type": "markdown",
   "metadata": {},
   "source": [
    "The cluster centers are similar to the previous example:"
   ]
  },
  {
   "cell_type": "code",
   "execution_count": 21,
   "metadata": {},
   "outputs": [
    {
     "data": {
      "text/plain": "         x1        x2\n0  0.127701  0.207853\n1  0.829077  0.970594",
      "text/html": "<div>\n<style scoped>\n    .dataframe tbody tr th:only-of-type {\n        vertical-align: middle;\n    }\n\n    .dataframe tbody tr th {\n        vertical-align: top;\n    }\n\n    .dataframe thead th {\n        text-align: right;\n    }\n</style>\n<table border=\"1\" class=\"dataframe\">\n  <thead>\n    <tr style=\"text-align: right;\">\n      <th></th>\n      <th>x1</th>\n      <th>x2</th>\n    </tr>\n  </thead>\n  <tbody>\n    <tr>\n      <th>0</th>\n      <td>0.127701</td>\n      <td>0.207853</td>\n    </tr>\n    <tr>\n      <th>1</th>\n      <td>0.829077</td>\n      <td>0.970594</td>\n    </tr>\n  </tbody>\n</table>\n</div>"
     },
     "execution_count": 21,
     "metadata": {},
     "output_type": "execute_result"
    }
   ],
   "source": [
    "pd.DataFrame(new_centers_hcm, columns=['x1','x2'])"
   ]
  },
  {
   "cell_type": "markdown",
   "metadata": {},
   "source": [
    "The assignation matrix is different even we assign same objects to the same clusters. Values in each row sums to 1."
   ]
  },
  {
   "cell_type": "code",
   "execution_count": 22,
   "metadata": {},
   "outputs": [
    {
     "data": {
      "text/plain": "   Cluster 1  Cluster 2\n0   0.988116   0.011884\n1   0.992848   0.007152\n2   0.983859   0.016141\n3   0.990161   0.009839\n4   0.992110   0.007890\n5   0.998549   0.001451\n6   0.006058   0.993942\n7   0.019747   0.980253\n8   0.077166   0.922834\n9   0.792697   0.207303",
      "text/html": "<div>\n<style scoped>\n    .dataframe tbody tr th:only-of-type {\n        vertical-align: middle;\n    }\n\n    .dataframe tbody tr th {\n        vertical-align: top;\n    }\n\n    .dataframe thead th {\n        text-align: right;\n    }\n</style>\n<table border=\"1\" class=\"dataframe\">\n  <thead>\n    <tr style=\"text-align: right;\">\n      <th></th>\n      <th>Cluster 1</th>\n      <th>Cluster 2</th>\n    </tr>\n  </thead>\n  <tbody>\n    <tr>\n      <th>0</th>\n      <td>0.988116</td>\n      <td>0.011884</td>\n    </tr>\n    <tr>\n      <th>1</th>\n      <td>0.992848</td>\n      <td>0.007152</td>\n    </tr>\n    <tr>\n      <th>2</th>\n      <td>0.983859</td>\n      <td>0.016141</td>\n    </tr>\n    <tr>\n      <th>3</th>\n      <td>0.990161</td>\n      <td>0.009839</td>\n    </tr>\n    <tr>\n      <th>4</th>\n      <td>0.992110</td>\n      <td>0.007890</td>\n    </tr>\n    <tr>\n      <th>5</th>\n      <td>0.998549</td>\n      <td>0.001451</td>\n    </tr>\n    <tr>\n      <th>6</th>\n      <td>0.006058</td>\n      <td>0.993942</td>\n    </tr>\n    <tr>\n      <th>7</th>\n      <td>0.019747</td>\n      <td>0.980253</td>\n    </tr>\n    <tr>\n      <th>8</th>\n      <td>0.077166</td>\n      <td>0.922834</td>\n    </tr>\n    <tr>\n      <th>9</th>\n      <td>0.792697</td>\n      <td>0.207303</td>\n    </tr>\n  </tbody>\n</table>\n</div>"
     },
     "execution_count": 22,
     "metadata": {},
     "output_type": "execute_result"
    }
   ],
   "source": [
    "pd.DataFrame(new_assignation_fcm, columns = ['Cluster 1','Cluster 2'])"
   ]
  },
  {
   "cell_type": "markdown",
   "metadata": {},
   "source": [
    "To plot the objects in a fuzzy k-means we need to group them by values higher than 0.5 as both values sums to 1."
   ]
  },
  {
   "cell_type": "code",
   "execution_count": 23,
   "metadata": {},
   "outputs": [
    {
     "data": {
      "text/plain": "<Figure size 432x288 with 1 Axes>",
      "image/png": "[encoded data removed]"
     },
     "metadata": {
      "needs_background": "light"
     },
     "output_type": "display_data"
    }
   ],
   "source": [
    "red = data_set[np.where(np.array(new_assignation_fcm)[:,0]>0.5)]\n",
    "blue = data_set[np.where(np.array(new_assignation_fcm)[:,1]>0.5)]\n",
    "\n",
    "fig, ax = plt.subplots()\n",
    "\n",
    "ax.scatter(blue[:,0],blue[:,1],c='blue')\n",
    "ax.scatter(red[:,0],red[:,1],c='red')\n",
    "ax.scatter(np.array(new_centers_fcm)[:,0],np.array(new_centers_fcm)[:,1],c='black')\n",
    "ax.set(xlabel='Seats count', ylabel='Distance range (km)',\n",
    "       title='Aircrafts (clusters)')\n",
    "ax.grid()\n",
    "plt.show()"
   ]
  },
  {
   "cell_type": "markdown",
   "metadata": {},
   "source": [
    "### Possibilistic k-means (PCM)\n",
    "\n",
    "In the fuzzy version, each row sums to 1. In real-world cases, it doesn't need to be like this. The possibilistic k-means returns the distance to the center rather than dividing the assignation between clusters.\n",
    "\n",
    "\n",
    "As suggested by the authors, the initial assignation matrix should be created using the FCM method. We do a fixed number of FCM method loops. The number of loops is set by the variable ``F``. The ``error_margin`` variable is the error threshold were below of it we stop the loop."
   ]
  },
  {
   "cell_type": "code",
   "execution_count": 24,
   "metadata": {},
   "outputs": [],
   "source": [
    "F = 2\n",
    "error_margin = 0.08\n",
    "assignation=np.zeros((len(data_set),groups))"
   ]
  },
  {
   "cell_type": "markdown",
   "metadata": {},
   "source": [
    "The assignation function is more complex compared to the two previous one. In PCM we use the Mahalanobis distance instead of the Euclidean one, and the assignation function is set as:\n",
    "\\begin{equation}\n",
    " \\mu_{ik}=(1+(\\frac{\\rho_{A}(x_{i},v_{j})}{\\eta_{i}})^{\\frac{2}{m-1}})^{-1},\n",
    "\\end{equation}\n",
    "where\n",
    "\\begin{equation}\n",
    "\\eta_{i}=\\frac{\\sum_{k=1}^{M}(\\mu_{ik})^{m}\\rho_{A}(x_{i},v_{j})}{\\sum_{k=1}^{M}(\\mu_{ik}\n",
    ")^{m}}.\n",
    "\\end{equation}\n",
    "$\\rho_{A}(x_{i},v_{j})$ is the Mahalanobis distance:\n",
    "\\begin{equation}\n",
    "\\rho_{A}(x_{i},v_{j})=(x_{i}-v_{j})^{T}A(x_{i}-v_{j}).\n",
    "\\end{equation}\n",
    "It use ``A`` diagnoal matrix to measure the distance. The figure below show how the euclidean distance is measured:\n",
    "![](./../images/euclidean.png)\n",
    "The difference between two distances is that in Mahalanobis distance we use the diagonal matrix ``A``, which is also known as Mahalanobis norm, that allow us to measure the distance between objects as it's shown in figure below.\n",
    "![](./../images/mahalanobis.png)\n",
    "\n",
    "The Mahalanobis norm can be implemented as below."
   ]
  },
  {
   "cell_type": "code",
   "execution_count": 25,
   "metadata": {},
   "outputs": [],
   "source": [
    "def calculate_A():\n",
    "    mean=np.mean(data_set,axis=0)\n",
    "    sumof = np.zeros((data_set[0].shape))\n",
    "    for i in range(len(data_set)):\n",
    "        subtracted = np.subtract(data_set[i],mean)\n",
    "        sumof = sumof + np.multiply(subtracted, subtracted)\n",
    "    variance = np.divide(sumof,len(data_set))\n",
    "    ABcov = np.cov(data_set[:,0]*data_set[:,1])\n",
    "    R = np.array([[variance[0], ABcov], [ABcov, variance[1]]])\n",
    "    return R**-1"
   ]
  },
  {
   "cell_type": "markdown",
   "metadata": {},
   "source": [
    "The matrix can be saved as global variable ``A``. It is the size of the feature number by feature number. In our case it will be a matrix of size $2\\times2$."
   ]
  },
  {
   "cell_type": "code",
   "execution_count": 26,
   "metadata": {},
   "outputs": [
    {
     "name": "stdout",
     "output_type": "stream",
     "text": [
      "[[7.89464944 6.69665317]\n",
      " [6.69665317 7.75894855]]\n"
     ]
    }
   ],
   "source": [
    "A = calculate_A()\n",
    "print(A)"
   ]
  },
  {
   "cell_type": "markdown",
   "metadata": {},
   "source": [
    "After getting the ``A`` matrix, we are able to calcualte the Mahalanobis distance. The ``A`` matrix is calculated once, because it depends on the whole data set, not the method steps."
   ]
  },
  {
   "cell_type": "code",
   "execution_count": 27,
   "metadata": {},
   "outputs": [],
   "source": [
    "def calculate_mah_distance(group, centers):\n",
    "    dmc = data_set - centers[group]\n",
    "    dmca = np.dot(data_set - centers[group], A)\n",
    "\n",
    "    distances = lambda dmc, dmca: [np.dot(dmca[i], dmc[i]) for i in range(dmc.shape[0])]\n",
    "    return distances(dmc,dmca)"
   ]
  },
  {
   "cell_type": "markdown",
   "metadata": {},
   "source": [
    "The $\\eta$ can be implemented as below:"
   ]
  },
  {
   "cell_type": "code",
   "execution_count": 28,
   "metadata": {},
   "outputs": [],
   "source": [
    "def calculate_eta(assignation, group, mah_distances):\n",
    "    ud = np.sum((assignation[:, group] ** m) * mah_distances, axis=0)\n",
    "    uq = np.sum(assignation[:, group] ** m, axis=0)\n",
    "    return ud/uq"
   ]
  },
  {
   "cell_type": "markdown",
   "metadata": {},
   "source": [
    "Finally, we can calculate the $\\nu$:"
   ]
  },
  {
   "cell_type": "code",
   "execution_count": 29,
   "metadata": {},
   "outputs": [],
   "source": [
    "def calculate_u_pcm(assignation, centers):\n",
    "    new_assignation = np.zeros((len(data_set), groups))\n",
    "    for group in range(groups):\n",
    "        mah_distances = calculate_mah_distance(group, centers)\n",
    "        group_eta = calculate_eta(assignation, group, mah_distances)\n",
    "        new_assignation[:,group] = (1.0+(mah_distances/group_eta))**-1\n",
    "    return new_assignation"
   ]
  },
  {
   "cell_type": "markdown",
   "metadata": {},
   "source": [
    "A stop function in PCM is defined as the difference between old and newly calculated centers."
   ]
  },
  {
   "cell_type": "code",
   "execution_count": 30,
   "metadata": {},
   "outputs": [],
   "source": [
    "def get_centers_difference(old_centers, new_centers):\n",
    "    return np.sum(np.abs(np.subtract(old_centers,new_centers)))    "
   ]
  },
  {
   "cell_type": "markdown",
   "metadata": {},
   "source": [
    "The ``cluster_pcm`` function has two parts. The first one is a FCM method that returns the input assignation matrix for the PCM method."
   ]
  },
  {
   "cell_type": "code",
   "execution_count": 31,
   "metadata": {},
   "outputs": [],
   "source": [
    "def cluster_pcm(assignation, centers):\n",
    "    new_centers = centers\n",
    "    new_assignation = assignation\n",
    "    for f in range(F):\n",
    "        assignation = []\n",
    "        for i in range(len(data_set)):\n",
    "            assignation_vector = []\n",
    "            for k in range(groups): \n",
    "                assignation_vector.append(calculate_u_fcm(data_set[i], new_centers, k))\n",
    "            assignation.append(assignation_vector)\n",
    "        new_centers = calculate_new_centers(assignation)\n",
    "        new_assignation = np.array(assignation)\n",
    "\n",
    "        \n",
    "    difference_limit_not_achieved = True\n",
    "    while difference_limit_not_achieved:\n",
    "        new_assignation = calculate_u_pcm(new_assignation, new_centers)\n",
    "        old_centers = new_centers\n",
    "        new_centers = calculate_new_centers(new_assignation)\n",
    "\n",
    "        if get_centers_difference(old_centers, new_centers) < error_margin:\n",
    "            difference_limit_not_achieved = False\n",
    "    return new_assignation, new_centers"
   ]
  },
  {
   "cell_type": "markdown",
   "metadata": {},
   "source": [
    "Now, we can cluster the data set with PCM:"
   ]
  },
  {
   "cell_type": "code",
   "execution_count": 32,
   "metadata": {},
   "outputs": [],
   "source": [
    "new_assignation_pcm, new_centers_pcm = cluster_pcm(assignation, centers)"
   ]
  },
  {
   "cell_type": "markdown",
   "metadata": {},
   "source": [
    "The assignation values does not sum to 1 as in fuzzy k-means. The matrix give a better understanding of where the object is placed in the feature space."
   ]
  },
  {
   "cell_type": "code",
   "execution_count": 33,
   "metadata": {},
   "outputs": [
    {
     "data": {
      "text/plain": "   Cluster 1  Cluster 2\n0   0.201667   0.007864\n1   0.475377   0.008590\n2   0.631938   0.009800\n3   0.676921   0.009082\n4   0.731934   0.009754\n5   0.685231   0.010098\n6   0.002340   0.970998\n7   0.002051   0.565424\n8   0.003508   0.217578\n9   0.020676   0.021271",
      "text/html": "<div>\n<style scoped>\n    .dataframe tbody tr th:only-of-type {\n        vertical-align: middle;\n    }\n\n    .dataframe tbody tr th {\n        vertical-align: top;\n    }\n\n    .dataframe thead th {\n        text-align: right;\n    }\n</style>\n<table border=\"1\" class=\"dataframe\">\n  <thead>\n    <tr style=\"text-align: right;\">\n      <th></th>\n      <th>Cluster 1</th>\n      <th>Cluster 2</th>\n    </tr>\n  </thead>\n  <tbody>\n    <tr>\n      <th>0</th>\n      <td>0.201667</td>\n      <td>0.007864</td>\n    </tr>\n    <tr>\n      <th>1</th>\n      <td>0.475377</td>\n      <td>0.008590</td>\n    </tr>\n    <tr>\n      <th>2</th>\n      <td>0.631938</td>\n      <td>0.009800</td>\n    </tr>\n    <tr>\n      <th>3</th>\n      <td>0.676921</td>\n      <td>0.009082</td>\n    </tr>\n    <tr>\n      <th>4</th>\n      <td>0.731934</td>\n      <td>0.009754</td>\n    </tr>\n    <tr>\n      <th>5</th>\n      <td>0.685231</td>\n      <td>0.010098</td>\n    </tr>\n    <tr>\n      <th>6</th>\n      <td>0.002340</td>\n      <td>0.970998</td>\n    </tr>\n    <tr>\n      <th>7</th>\n      <td>0.002051</td>\n      <td>0.565424</td>\n    </tr>\n    <tr>\n      <th>8</th>\n      <td>0.003508</td>\n      <td>0.217578</td>\n    </tr>\n    <tr>\n      <th>9</th>\n      <td>0.020676</td>\n      <td>0.021271</td>\n    </tr>\n  </tbody>\n</table>\n</div>"
     },
     "execution_count": 33,
     "metadata": {},
     "output_type": "execute_result"
    }
   ],
   "source": [
    "pd.DataFrame(new_assignation_pcm, columns = ['Cluster 1','Cluster 2'])"
   ]
  },
  {
   "cell_type": "markdown",
   "metadata": {},
   "source": [
    "In case of PCM we decided to extend the plot for many groups, up to 6. The colors are defined below."
   ]
  },
  {
   "cell_type": "code",
   "execution_count": 34,
   "metadata": {},
   "outputs": [],
   "source": [
    "assigned_groups = []\n",
    "colors = ['red','blue','green','orange','black','yellow']\n",
    "\n",
    "for el in range(len(data_set)):\n",
    "    group_id = np.argmax(new_assignation_pcm[el])\n",
    "    assigned_groups.append(group_id)"
   ]
  },
  {
   "cell_type": "markdown",
   "metadata": {},
   "source": [
    "We need a function that assign a color to each cluster."
   ]
  },
  {
   "cell_type": "code",
   "execution_count": 35,
   "metadata": {},
   "outputs": [],
   "source": [
    "def get_colours(color_id):\n",
    "    return data_set[np.where(np.array(assigned_groups)[:]==color_id)]"
   ]
  },
  {
   "cell_type": "markdown",
   "metadata": {},
   "source": [
    "Finally, we go through groups we have and assign objects to colors and plot it. What is important to mention is that some assignation values for an object can be very low, means that this object is far from all centers. We can implement here a threshold where if all assignation values are below some threshold we treat such objects as noise. In the figure below, we see the last object that is closer to the red centroid, but was assigned to the blue cluster. In this case both values are very low, but the blue one is just a bit higher. In a hard k-means method it wouldn't be so easy to find the noise."
   ]
  },
  {
   "cell_type": "code",
   "execution_count": 36,
   "metadata": {},
   "outputs": [
    {
     "data": {
      "text/plain": "<Figure size 432x288 with 1 Axes>",
      "image/png": "[encoded data removed]"
     },
     "metadata": {
      "needs_background": "light"
     },
     "output_type": "display_data"
    }
   ],
   "source": [
    "fig, ax = plt.subplots()\n",
    "\n",
    "\n",
    "for group in range(groups):\n",
    "    small_set = get_colours(group)    \n",
    "    ax.scatter(small_set[:,0],small_set[:,1],c=colors.pop(0))\n",
    "ax.scatter(np.array(new_centers_pcm)[:,0],np.array(new_centers_pcm)[:,1],marker='x',c='black')\n",
    "ax.set(xlabel='Seats count', ylabel='Distance range (km)',\n",
    "       title='Aircrafts (clusters)')\n",
    "ax.grid()\n",
    "plt.show()"
   ]
  }
 ],
 "metadata": {
  "kernelspec": {
   "display_name": "Python 3",
   "language": "python",
   "name": "python3"
  },
  "language_info": {
   "codemirror_mode": {
    "name": "ipython",
    "version": 3
   },
   "file_extension": ".py",
   "mimetype": "text/x-python",
   "name": "python",
   "nbconvert_exporter": "python",
   "pygments_lexer": "ipython3",
   "version": "3.6.9"
  }
 },
 "nbformat": 4,
 "nbformat_minor": 4
}